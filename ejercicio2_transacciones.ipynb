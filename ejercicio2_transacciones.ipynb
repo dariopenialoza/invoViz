{
 "cells": [
  {
   "cell_type": "markdown",
   "metadata": {},
   "source": [
    "# CURSO VISUALIZACIÓN DE LA INFORMACIÓN\n",
    "## TRABAJO PRÁCTICO 1"
   ]
  },
  {
   "cell_type": "markdown",
   "metadata": {},
   "source": [
    "### Ejercicio 2\n",
    "Analice los informes obtenidos de los datasets del ejercicio anterior y realice un\n",
    "informe de las presentaciones, con conclusiones, y si considera que las visualizaciones son\n",
    "efectivas y de fácil interpretación, etc. y ¿Cómo las mejorarían?"
   ]
  },
  {
   "cell_type": "markdown",
   "metadata": {},
   "source": [
    "## Transacciones"
   ]
  },
  {
   "cell_type": "markdown",
   "metadata": {},
   "source": [
    "### Lectura DataSet transacciones"
   ]
  },
  {
   "cell_type": "code",
   "execution_count": 1,
   "metadata": {},
   "outputs": [],
   "source": [
    "import pandas as pd\n",
    "\n",
    "data_trans = pd.read_csv(\"transacciones.csv\") "
   ]
  },
  {
   "cell_type": "code",
   "execution_count": 2,
   "metadata": {},
   "outputs": [
    {
     "data": {
      "text/html": [
       "<div>\n",
       "<style scoped>\n",
       "    .dataframe tbody tr th:only-of-type {\n",
       "        vertical-align: middle;\n",
       "    }\n",
       "\n",
       "    .dataframe tbody tr th {\n",
       "        vertical-align: top;\n",
       "    }\n",
       "\n",
       "    .dataframe thead th {\n",
       "        text-align: right;\n",
       "    }\n",
       "</style>\n",
       "<table border=\"1\" class=\"dataframe\">\n",
       "  <thead>\n",
       "    <tr style=\"text-align: right;\">\n",
       "      <th></th>\n",
       "      <th>Id</th>\n",
       "      <th>Date</th>\n",
       "      <th>Company Name</th>\n",
       "      <th>Transaction Amount</th>\n",
       "    </tr>\n",
       "  </thead>\n",
       "  <tbody>\n",
       "    <tr>\n",
       "      <th>0</th>\n",
       "      <td>1</td>\n",
       "      <td>2021-04-20</td>\n",
       "      <td>DIRECTV</td>\n",
       "      <td>97345310</td>\n",
       "    </tr>\n",
       "    <tr>\n",
       "      <th>1</th>\n",
       "      <td>2</td>\n",
       "      <td>2021-11-28</td>\n",
       "      <td>Aysa</td>\n",
       "      <td>17375907</td>\n",
       "    </tr>\n",
       "    <tr>\n",
       "      <th>2</th>\n",
       "      <td>3</td>\n",
       "      <td>2021-03-17</td>\n",
       "      <td>Claro</td>\n",
       "      <td>91148233</td>\n",
       "    </tr>\n",
       "    <tr>\n",
       "      <th>3</th>\n",
       "      <td>4</td>\n",
       "      <td>2021-05-19</td>\n",
       "      <td>Metrogas</td>\n",
       "      <td>36578482</td>\n",
       "    </tr>\n",
       "    <tr>\n",
       "      <th>4</th>\n",
       "      <td>5</td>\n",
       "      <td>2021-10-14</td>\n",
       "      <td>Cablevision Fibertel</td>\n",
       "      <td>10918024</td>\n",
       "    </tr>\n",
       "  </tbody>\n",
       "</table>\n",
       "</div>"
      ],
      "text/plain": [
       "   Id       Date          Company Name  Transaction Amount\n",
       "0   1 2021-04-20               DIRECTV            97345310\n",
       "1   2 2021-11-28                  Aysa            17375907\n",
       "2   3 2021-03-17                 Claro            91148233\n",
       "3   4 2021-05-19              Metrogas            36578482\n",
       "4   5 2021-10-14  Cablevision Fibertel            10918024"
      ]
     },
     "execution_count": 2,
     "metadata": {},
     "output_type": "execute_result"
    }
   ],
   "source": [
    "# Convertir la columna 'date_added' a tipo date\n",
    "data_trans['Date'] = pd.to_datetime(data_trans['Date'],  dayfirst=True, errors='coerce')\n",
    "data_trans.head(5)"
   ]
  },
  {
   "cell_type": "markdown",
   "metadata": {},
   "source": [
    "### Analis del informe"
   ]
  },
  {
   "cell_type": "markdown",
   "metadata": {},
   "source": [
    "Se procede a analizar cada una de las secciones."
   ]
  },
  {
   "cell_type": "markdown",
   "metadata": {},
   "source": [
    "#### 1) Tabla: Monto total de las transacciones por compañia."
   ]
  },
  {
   "cell_type": "code",
   "execution_count": 23,
   "metadata": {},
   "outputs": [
    {
     "data": {
      "text/html": [
       "<div>\n",
       "<style scoped>\n",
       "    .dataframe tbody tr th:only-of-type {\n",
       "        vertical-align: middle;\n",
       "    }\n",
       "\n",
       "    .dataframe tbody tr th {\n",
       "        vertical-align: top;\n",
       "    }\n",
       "\n",
       "    .dataframe thead th {\n",
       "        text-align: right;\n",
       "    }\n",
       "</style>\n",
       "<table border=\"1\" class=\"dataframe\">\n",
       "  <thead>\n",
       "    <tr style=\"text-align: right;\">\n",
       "      <th></th>\n",
       "      <th>Company Name</th>\n",
       "      <th>Total Transaction Amount</th>\n",
       "    </tr>\n",
       "  </thead>\n",
       "  <tbody>\n",
       "    <tr>\n",
       "      <th>9</th>\n",
       "      <td>Movistar</td>\n",
       "      <td>8250775412</td>\n",
       "    </tr>\n",
       "    <tr>\n",
       "      <th>7</th>\n",
       "      <td>Flow</td>\n",
       "      <td>4738853026</td>\n",
       "    </tr>\n",
       "    <tr>\n",
       "      <th>0</th>\n",
       "      <td>Andesat</td>\n",
       "      <td>4460644840</td>\n",
       "    </tr>\n",
       "    <tr>\n",
       "      <th>1</th>\n",
       "      <td>Aysa</td>\n",
       "      <td>4247371598</td>\n",
       "    </tr>\n",
       "    <tr>\n",
       "      <th>5</th>\n",
       "      <td>Edenor</td>\n",
       "      <td>4098861077</td>\n",
       "    </tr>\n",
       "    <tr>\n",
       "      <th>11</th>\n",
       "      <td>Personal</td>\n",
       "      <td>4081126650</td>\n",
       "    </tr>\n",
       "    <tr>\n",
       "      <th>8</th>\n",
       "      <td>Metrogas</td>\n",
       "      <td>3945514475</td>\n",
       "    </tr>\n",
       "    <tr>\n",
       "      <th>3</th>\n",
       "      <td>Claro</td>\n",
       "      <td>3505152332</td>\n",
       "    </tr>\n",
       "    <tr>\n",
       "      <th>6</th>\n",
       "      <td>Edesur</td>\n",
       "      <td>3488051928</td>\n",
       "    </tr>\n",
       "    <tr>\n",
       "      <th>10</th>\n",
       "      <td>Mundo Satelital</td>\n",
       "      <td>3440771772</td>\n",
       "    </tr>\n",
       "    <tr>\n",
       "      <th>2</th>\n",
       "      <td>Cablevision Fibertel</td>\n",
       "      <td>3367023289</td>\n",
       "    </tr>\n",
       "    <tr>\n",
       "      <th>12</th>\n",
       "      <td>Telecentro</td>\n",
       "      <td>3226599073</td>\n",
       "    </tr>\n",
       "    <tr>\n",
       "      <th>4</th>\n",
       "      <td>DIRECTV</td>\n",
       "      <td>2638301275</td>\n",
       "    </tr>\n",
       "  </tbody>\n",
       "</table>\n",
       "</div>"
      ],
      "text/plain": [
       "            Company Name  Total Transaction Amount\n",
       "9               Movistar                8250775412\n",
       "7                   Flow                4738853026\n",
       "0                Andesat                4460644840\n",
       "1                   Aysa                4247371598\n",
       "5                 Edenor                4098861077\n",
       "11              Personal                4081126650\n",
       "8               Metrogas                3945514475\n",
       "3                  Claro                3505152332\n",
       "6                 Edesur                3488051928\n",
       "10       Mundo Satelital                3440771772\n",
       "2   Cablevision Fibertel                3367023289\n",
       "12            Telecentro                3226599073\n",
       "4                DIRECTV                2638301275"
      ]
     },
     "execution_count": 23,
     "metadata": {},
     "output_type": "execute_result"
    }
   ],
   "source": [
    "# Agrupar por 'Company Name' y sumar los montos de las transacciones\n",
    "total_transactions_per_company = data_trans.groupby('Company Name')['Transaction Amount'].sum().reset_index()\n",
    "\n",
    "# Renombrar las columnas para mayor claridad\n",
    "total_transactions_per_company.columns = ['Company Name', 'Total Transaction Amount']\n",
    "\n",
    "# Ordenar el DataFrame por 'Total Transaction Amount' en orden descendente\n",
    "total_transactions_per_company_sorted = total_transactions_per_company.sort_values(by='Total Transaction Amount', ascending=False)\n",
    "\n",
    "\n",
    "# Mostrar el resultado\n",
    "total_transactions_per_company_sorted"
   ]
  },
  {
   "cell_type": "code",
   "execution_count": 24,
   "metadata": {},
   "outputs": [
    {
     "data": {
      "text/html": [
       "<style type=\"text/css\">\n",
       "#T_8518b thead th {\n",
       "  background-color: green;\n",
       "  color: white;\n",
       "}\n",
       "#T_8518b_row0_col0, #T_8518b_row0_col1, #T_8518b_row2_col0, #T_8518b_row2_col1, #T_8518b_row4_col0, #T_8518b_row4_col1, #T_8518b_row6_col0, #T_8518b_row6_col1, #T_8518b_row8_col0, #T_8518b_row8_col1, #T_8518b_row10_col0, #T_8518b_row10_col1, #T_8518b_row12_col0, #T_8518b_row12_col1 {\n",
       "  background-color: lightgreen;\n",
       "  color: black;\n",
       "}\n",
       "#T_8518b_row1_col0, #T_8518b_row1_col1, #T_8518b_row3_col0, #T_8518b_row3_col1, #T_8518b_row5_col0, #T_8518b_row5_col1, #T_8518b_row7_col0, #T_8518b_row7_col1, #T_8518b_row9_col0, #T_8518b_row9_col1, #T_8518b_row11_col0, #T_8518b_row11_col1 {\n",
       "  background-color: lightyellow;\n",
       "  color: black;\n",
       "}\n",
       "</style>\n",
       "<table id=\"T_8518b\">\n",
       "  <thead>\n",
       "    <tr>\n",
       "      <th class=\"blank level0\" >&nbsp;</th>\n",
       "      <th id=\"T_8518b_level0_col0\" class=\"col_heading level0 col0\" >Company Name</th>\n",
       "      <th id=\"T_8518b_level0_col1\" class=\"col_heading level0 col1\" >Total Transaction Amount</th>\n",
       "    </tr>\n",
       "  </thead>\n",
       "  <tbody>\n",
       "    <tr>\n",
       "      <th id=\"T_8518b_level0_row0\" class=\"row_heading level0 row0\" >9</th>\n",
       "      <td id=\"T_8518b_row0_col0\" class=\"data row0 col0\" >Movistar</td>\n",
       "      <td id=\"T_8518b_row0_col1\" class=\"data row0 col1\" >8250775412</td>\n",
       "    </tr>\n",
       "    <tr>\n",
       "      <th id=\"T_8518b_level0_row1\" class=\"row_heading level0 row1\" >7</th>\n",
       "      <td id=\"T_8518b_row1_col0\" class=\"data row1 col0\" >Flow</td>\n",
       "      <td id=\"T_8518b_row1_col1\" class=\"data row1 col1\" >4738853026</td>\n",
       "    </tr>\n",
       "    <tr>\n",
       "      <th id=\"T_8518b_level0_row2\" class=\"row_heading level0 row2\" >0</th>\n",
       "      <td id=\"T_8518b_row2_col0\" class=\"data row2 col0\" >Andesat</td>\n",
       "      <td id=\"T_8518b_row2_col1\" class=\"data row2 col1\" >4460644840</td>\n",
       "    </tr>\n",
       "    <tr>\n",
       "      <th id=\"T_8518b_level0_row3\" class=\"row_heading level0 row3\" >1</th>\n",
       "      <td id=\"T_8518b_row3_col0\" class=\"data row3 col0\" >Aysa</td>\n",
       "      <td id=\"T_8518b_row3_col1\" class=\"data row3 col1\" >4247371598</td>\n",
       "    </tr>\n",
       "    <tr>\n",
       "      <th id=\"T_8518b_level0_row4\" class=\"row_heading level0 row4\" >5</th>\n",
       "      <td id=\"T_8518b_row4_col0\" class=\"data row4 col0\" >Edenor</td>\n",
       "      <td id=\"T_8518b_row4_col1\" class=\"data row4 col1\" >4098861077</td>\n",
       "    </tr>\n",
       "    <tr>\n",
       "      <th id=\"T_8518b_level0_row5\" class=\"row_heading level0 row5\" >11</th>\n",
       "      <td id=\"T_8518b_row5_col0\" class=\"data row5 col0\" >Personal</td>\n",
       "      <td id=\"T_8518b_row5_col1\" class=\"data row5 col1\" >4081126650</td>\n",
       "    </tr>\n",
       "    <tr>\n",
       "      <th id=\"T_8518b_level0_row6\" class=\"row_heading level0 row6\" >8</th>\n",
       "      <td id=\"T_8518b_row6_col0\" class=\"data row6 col0\" >Metrogas</td>\n",
       "      <td id=\"T_8518b_row6_col1\" class=\"data row6 col1\" >3945514475</td>\n",
       "    </tr>\n",
       "    <tr>\n",
       "      <th id=\"T_8518b_level0_row7\" class=\"row_heading level0 row7\" >3</th>\n",
       "      <td id=\"T_8518b_row7_col0\" class=\"data row7 col0\" >Claro</td>\n",
       "      <td id=\"T_8518b_row7_col1\" class=\"data row7 col1\" >3505152332</td>\n",
       "    </tr>\n",
       "    <tr>\n",
       "      <th id=\"T_8518b_level0_row8\" class=\"row_heading level0 row8\" >6</th>\n",
       "      <td id=\"T_8518b_row8_col0\" class=\"data row8 col0\" >Edesur</td>\n",
       "      <td id=\"T_8518b_row8_col1\" class=\"data row8 col1\" >3488051928</td>\n",
       "    </tr>\n",
       "    <tr>\n",
       "      <th id=\"T_8518b_level0_row9\" class=\"row_heading level0 row9\" >10</th>\n",
       "      <td id=\"T_8518b_row9_col0\" class=\"data row9 col0\" >Mundo Satelital</td>\n",
       "      <td id=\"T_8518b_row9_col1\" class=\"data row9 col1\" >3440771772</td>\n",
       "    </tr>\n",
       "    <tr>\n",
       "      <th id=\"T_8518b_level0_row10\" class=\"row_heading level0 row10\" >2</th>\n",
       "      <td id=\"T_8518b_row10_col0\" class=\"data row10 col0\" >Cablevision Fibertel</td>\n",
       "      <td id=\"T_8518b_row10_col1\" class=\"data row10 col1\" >3367023289</td>\n",
       "    </tr>\n",
       "    <tr>\n",
       "      <th id=\"T_8518b_level0_row11\" class=\"row_heading level0 row11\" >12</th>\n",
       "      <td id=\"T_8518b_row11_col0\" class=\"data row11 col0\" >Telecentro</td>\n",
       "      <td id=\"T_8518b_row11_col1\" class=\"data row11 col1\" >3226599073</td>\n",
       "    </tr>\n",
       "    <tr>\n",
       "      <th id=\"T_8518b_level0_row12\" class=\"row_heading level0 row12\" >4</th>\n",
       "      <td id=\"T_8518b_row12_col0\" class=\"data row12 col0\" >DIRECTV</td>\n",
       "      <td id=\"T_8518b_row12_col1\" class=\"data row12 col1\" >2638301275</td>\n",
       "    </tr>\n",
       "  </tbody>\n",
       "</table>\n"
      ],
      "text/plain": [
       "<pandas.io.formats.style.Styler at 0x279ce5b34d0>"
      ]
     },
     "execution_count": 24,
     "metadata": {},
     "output_type": "execute_result"
    }
   ],
   "source": [
    "import pandas as pd\n",
    "\n",
    "df = pd.DataFrame(total_transactions_per_company_sorted)\n",
    "\n",
    "# Estilo de la tabla\n",
    "def color_rows(row):\n",
    "    # Obtener el índice de la fila\n",
    "    idx = row.name\n",
    "    if df.index.get_loc(idx) % 2 == 0:\n",
    "        return ['background-color: lightgreen; color: black'] * len(row)\n",
    "    else:\n",
    "        return ['background-color: lightyellow; color: black'] * len(row)\n",
    "\n",
    "styled_df = df.style.apply(color_rows, axis=1)\n",
    "styled_df = styled_df.set_table_styles(\n",
    "    [{'selector': 'thead th',\n",
    "      'props': [('background-color', 'green'),\n",
    "                ('color', 'white')]}])\n",
    "\n",
    "# Mostrar la tabla estilizada\n",
    "styled_df"
   ]
  },
  {
   "cell_type": "markdown",
   "metadata": {},
   "source": [
    "Si bien los datos pueden ser redundantes porque luego se los muestra por diagramas, creo interesante conservar la taba para mostrar todos los valores y luego en las grafica realizar un top 5."
   ]
  },
  {
   "cell_type": "markdown",
   "metadata": {},
   "source": [
    "#### 2) Diagrama de barras: Monto total de las transacciones por compañia."
   ]
  },
  {
   "cell_type": "code",
   "execution_count": 58,
   "metadata": {},
   "outputs": [
    {
     "data": {
      "text/html": [
       "<div>\n",
       "<style scoped>\n",
       "    .dataframe tbody tr th:only-of-type {\n",
       "        vertical-align: middle;\n",
       "    }\n",
       "\n",
       "    .dataframe tbody tr th {\n",
       "        vertical-align: top;\n",
       "    }\n",
       "\n",
       "    .dataframe thead th {\n",
       "        text-align: right;\n",
       "    }\n",
       "</style>\n",
       "<table border=\"1\" class=\"dataframe\">\n",
       "  <thead>\n",
       "    <tr style=\"text-align: right;\">\n",
       "      <th></th>\n",
       "      <th>Company Name</th>\n",
       "      <th>Total Transaction Amount</th>\n",
       "    </tr>\n",
       "  </thead>\n",
       "  <tbody>\n",
       "    <tr>\n",
       "      <th>5</th>\n",
       "      <td>Edenor</td>\n",
       "      <td>4098861077</td>\n",
       "    </tr>\n",
       "    <tr>\n",
       "      <th>1</th>\n",
       "      <td>Aysa</td>\n",
       "      <td>4247371598</td>\n",
       "    </tr>\n",
       "    <tr>\n",
       "      <th>0</th>\n",
       "      <td>Andesat</td>\n",
       "      <td>4460644840</td>\n",
       "    </tr>\n",
       "    <tr>\n",
       "      <th>7</th>\n",
       "      <td>Flow</td>\n",
       "      <td>4738853026</td>\n",
       "    </tr>\n",
       "    <tr>\n",
       "      <th>9</th>\n",
       "      <td>Movistar</td>\n",
       "      <td>8250775412</td>\n",
       "    </tr>\n",
       "  </tbody>\n",
       "</table>\n",
       "</div>"
      ],
      "text/plain": [
       "  Company Name  Total Transaction Amount\n",
       "5       Edenor                4098861077\n",
       "1         Aysa                4247371598\n",
       "0      Andesat                4460644840\n",
       "7         Flow                4738853026\n",
       "9     Movistar                8250775412"
      ]
     },
     "execution_count": 58,
     "metadata": {},
     "output_type": "execute_result"
    }
   ],
   "source": [
    "# Invertir el orden del DataFrame\n",
    "total_transactions_per_company_sorted = total_transactions_per_company_sorted[::-1].head()\n",
    "total_transactions_per_company_sorted"
   ]
  },
  {
   "cell_type": "code",
   "execution_count": 78,
   "metadata": {},
   "outputs": [
    {
     "data": {
      "image/png": "[encoded data removed]",
      "text/plain": [
       "<Figure size 500x400 with 1 Axes>"
      ]
     },
     "metadata": {},
     "output_type": "display_data"
    }
   ],
   "source": [
    "import matplotlib.pyplot as plt\n",
    "import matplotlib.ticker as mtick\n",
    "import seaborn as sns\n",
    "\n",
    "# Obtener la paleta de colores 'Pastel2'\n",
    "colors = sns.color_palette('Paired', len(total_transactions_per_company_sorted))\n",
    "\n",
    "# Crear el gráfico de barras horizontales\n",
    "plt.figure(figsize=(5, 4))\n",
    "bars = plt.barh(total_transactions_per_company_sorted['Company Name'], total_transactions_per_company_sorted['Total Transaction Amount'], color=colors)\n",
    "\n",
    "# Añadir título y etiquetas\n",
    "plt.title('Top 5: ', fontsize=12, fontweight='bold')\n",
    "plt.xlabel('Total Monto de Transacciones', fontsize=10)\n",
    "plt.ylabel('Compañía', fontsize=10)\n",
    "plt.xticks(rotation=90, ha='right')  # Rotar las etiquetas en el eje x para mayor legibilidad\n",
    "\n",
    "# Formatear el eje X para mostrar los números completos\n",
    "ax = plt.gca()\n",
    "ax.xaxis.set_major_formatter(mtick.FuncFormatter(lambda x, _: f'{int(x):,}'))\n",
    "\n",
    "# Mostrar el gráfico\n",
    "plt.tight_layout()\n",
    "plt.show()\n"
   ]
  },
  {
   "cell_type": "markdown",
   "metadata": {},
   "source": [
    "Me parece mejor asignar un color particular a cada compañia."
   ]
  },
  {
   "cell_type": "markdown",
   "metadata": {},
   "source": [
    "#### 3) Diagrama de torta: Monto total de las transacciones por compañia."
   ]
  },
  {
   "cell_type": "code",
   "execution_count": 77,
   "metadata": {},
   "outputs": [
    {
     "data": {
      "image/png": "[encoded data removed]",
      "text/plain": [
       "<Figure size 400x400 with 1 Axes>"
      ]
     },
     "metadata": {},
     "output_type": "display_data"
    }
   ],
   "source": [
    "from matplotlib import pyplot as plt\n",
    "import seaborn as sns\n",
    "\n",
    "# Obtener la paleta de colores 'Pastel2'\n",
    "colors = sns.color_palette('Paired', len(total_transactions_per_company_sorted))\n",
    "\n",
    "# Crear el gráfico de pastel\n",
    "fig, ax = plt.subplots(figsize=(4, 4))  # Ajusta el tamaño del gráfico según tus necesidades\n",
    "wedges, texts, autotexts = ax.pie(\n",
    "    total_transactions_per_company_sorted['Total Transaction Amount'],  # Usar la columna de montos totales\n",
    "    labels=total_transactions_per_company_sorted['Company Name'],  # Usar la columna de nombres de compañías\n",
    "    autopct='%1.1f%%', \n",
    "    shadow=True,\n",
    "    colors=colors  # Aplicar los colores de la paleta 'Pastel2'\n",
    ")\n",
    "\n",
    "plt.title(\"Top 5:\", fontdict={'fontsize': 12, 'fontweight': 'bold'})\n",
    "\n",
    "# Mostrar el gráfico\n",
    "plt.show()\n"
   ]
  },
  {
   "cell_type": "markdown",
   "metadata": {},
   "source": [
    "En el diagrama original existe una porción llamada 'others' que agrupa a las porciones inferiores; pero en forma contraproducente esto desproporciona el tamaño relativo, al observar una porción grande para una porción de información no relevante."
   ]
  }
 ],
 "metadata": {
  "kernelspec": {
   "display_name": "tp1_penialoza",
   "language": "python",
   "name": "python3"
  },
  "language_info": {
   "codemirror_mode": {
    "name": "ipython",
    "version": 3
   },
   "file_extension": ".py",
   "mimetype": "text/x-python",
   "name": "python",
   "nbconvert_exporter": "python",
   "pygments_lexer": "ipython3",
   "version": "3.12.2"
  }
 },
 "nbformat": 4,
 "nbformat_minor": 2
}
